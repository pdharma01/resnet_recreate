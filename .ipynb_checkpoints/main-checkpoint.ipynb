{
 "cells": [
  {
   "cell_type": "markdown",
   "metadata": {
    "colab_type": "text",
    "id": "nisBvxzZPu3c"
   },
   "source": [
    "# Mount Drive"
   ]
  },
  {
   "cell_type": "code",
   "execution_count": null,
   "metadata": {
    "colab": {
     "base_uri": "https://localhost:8080/",
     "height": 122
    },
    "colab_type": "code",
    "executionInfo": {
     "elapsed": 20108,
     "status": "ok",
     "timestamp": 1594275681353,
     "user": {
      "displayName": "Note Dharma",
      "photoUrl": "",
      "userId": "15327139553288422567"
     },
     "user_tz": -420
    },
    "id": "blssSpKVOFq_",
    "outputId": "bf0a7972-0787-4628-f59c-e90523770aa8"
   },
   "outputs": [
    {
     "name": "stdout",
     "output_type": "stream",
     "text": [
      "Go to this URL in a browser: https://accounts.google.com/o/oauth2/auth?client_id=947318989803-6bn6qk8qdgf4n4g3pfee6491hc0brc4i.apps.googleusercontent.com&redirect_uri=urn%3aietf%3awg%3aoauth%3a2.0%3aoob&response_type=code&scope=email%20https%3a%2f%2fwww.googleapis.com%2fauth%2fdocs.test%20https%3a%2f%2fwww.googleapis.com%2fauth%2fdrive%20https%3a%2f%2fwww.googleapis.com%2fauth%2fdrive.photos.readonly%20https%3a%2f%2fwww.googleapis.com%2fauth%2fpeopleapi.readonly\n",
      "\n",
      "Enter your authorization code:\n",
      "··········\n",
      "Mounted at /content/gdrive\n"
     ]
    }
   ],
   "source": [
    "from google.colab import drive\n",
    "drive.mount(\"/content/gdrive\")"
   ]
  },
  {
   "cell_type": "markdown",
   "metadata": {
    "colab_type": "text",
    "id": "yme1W-K7PyKt"
   },
   "source": []
  },
  {
   "cell_type": "code",
   "execution_count": 62,
   "metadata": {
    "colab": {
     "base_uri": "https://localhost:8080/",
     "height": 51
    },
    "colab_type": "code",
    "executionInfo": {
     "elapsed": 2571,
     "status": "ok",
     "timestamp": 1594285698454,
     "user": {
      "displayName": "Note Dharma",
      "photoUrl": "",
      "userId": "15327139553288422567"
     },
     "user_tz": -420
    },
    "id": "Dfrx3UeDPE5r",
    "outputId": "173abe77-4e65-4ac7-b070-550ab312ee04"
   },
   "outputs": [
    {
     "name": "stdout",
     "output_type": "stream",
     "text": [
      "/content/gdrive/My Drive/GitHub/resnet_recreate\n",
      "\u001b[0m\u001b[01;34marchive\u001b[0m/  load_data.ipynb  main.ipynb  \u001b[01;34m__pycache__\u001b[0m/  README.md\n"
     ]
    }
   ],
   "source": [
    "%cd \"/content/gdrive/My Drive/GitHub/resnet_recreate\"\n",
    "%ls"
   ]
  },
  {
   "cell_type": "markdown",
   "metadata": {
    "colab_type": "text",
    "id": "YzqKKQiGN2pC"
   },
   "source": [
    "# Modules"
   ]
  },
  {
   "cell_type": "code",
   "execution_count": 2,
   "metadata": {
    "colab": {},
    "colab_type": "code",
    "executionInfo": {
     "elapsed": 891,
     "status": "ok",
     "timestamp": 1594286141448,
     "user": {
      "displayName": "Note Dharma",
      "photoUrl": "",
      "userId": "15327139553288422567"
     },
     "user_tz": -420
    },
    "id": "39RlVWxeN0UN"
   },
   "outputs": [],
   "source": [
    "import tensorflow as tf\n",
    "import numpy as np\n",
    "import matplotlib.pyplot as plt\n",
    "import tensorflow_datasets as tfds\n",
    "\n",
    "# # <===   Custom modules ===>\n",
    "# #for colab---\n",
    "# !pip install import_ipynb\n",
    "# import import_ipynb \n",
    "# #for jupyter---\n",
    "# from importnb import Notebook #for jupyter\n",
    "# #for reload ---\n",
    "# import importlib\n",
    "# import sys"
   ]
  },
  {
   "cell_type": "markdown",
   "metadata": {
    "colab_type": "text",
    "id": "n5-9k9hRWVFW"
   },
   "source": [
    "### Module Info"
   ]
  },
  {
   "cell_type": "code",
   "execution_count": 3,
   "metadata": {
    "colab": {
     "base_uri": "https://localhost:8080/",
     "height": 35
    },
    "colab_type": "code",
    "executionInfo": {
     "elapsed": 900,
     "status": "ok",
     "timestamp": 1594285404668,
     "user": {
      "displayName": "Note Dharma",
      "photoUrl": "",
      "userId": "15327139553288422567"
     },
     "user_tz": -420
    },
    "id": "W5U6uEl_P1eo",
    "outputId": "e1a35599-7aae-42a7-c03f-cc3d36da6a95"
   },
   "outputs": [
    {
     "data": {
      "text/plain": [
       "'2.1.0'"
      ]
     },
     "execution_count": 3,
     "metadata": {},
     "output_type": "execute_result"
    }
   ],
   "source": [
    "tf.__version__"
   ]
  },
  {
   "cell_type": "markdown",
   "metadata": {
    "colab_type": "text",
    "id": "zXAKfVyMWcpZ"
   },
   "source": [
    "### Import custom modules"
   ]
  },
  {
   "cell_type": "code",
   "execution_count": null,
   "metadata": {
    "colab": {
     "base_uri": "https://localhost:8080/",
     "height": 68
    },
    "colab_type": "code",
    "executionInfo": {
     "elapsed": 2605,
     "status": "ok",
     "timestamp": 1594278313774,
     "user": {
      "displayName": "Note Dharma",
      "photoUrl": "",
      "userId": "15327139553288422567"
     },
     "user_tz": -420
    },
    "id": "otDE_jL5Wf0p",
    "outputId": "217f5d47-5870-4038-e769-3a5bc9d2c5e6"
   },
   "outputs": [
    {
     "name": "stdout",
     "output_type": "stream",
     "text": [
      "/content/gdrive/My Drive/GitHub/resnet_recreate\n",
      "load_data01.ipynb  main01.ipynb  \u001b[0m\u001b[01;34m__pycache__\u001b[0m/\n",
      "load_data.ipynb    main.ipynb    README.md\n"
     ]
    }
   ],
   "source": [
    "# go to module folder location\n",
    "%cd \"/content/gdrive/My Drive/GitHub/resnet_recreate\"\n",
    "%ls"
   ]
  },
  {
   "cell_type": "markdown",
   "metadata": {
    "colab_type": "text",
    "id": "IhjQ8Lf9XvoG"
   },
   "source": [
    "####For colab"
   ]
  },
  {
   "cell_type": "markdown",
   "metadata": {
    "colab_type": "text",
    "id": "zlfPAozzai9W"
   },
   "source": [
    "Install and Import first run"
   ]
  },
  {
   "cell_type": "code",
   "execution_count": 54,
   "metadata": {
    "colab": {
     "base_uri": "https://localhost:8080/",
     "height": 34
    },
    "colab_type": "code",
    "executionInfo": {
     "elapsed": 3900,
     "status": "ok",
     "timestamp": 1594285421550,
     "user": {
      "displayName": "Note Dharma",
      "photoUrl": "",
      "userId": "15327139553288422567"
     },
     "user_tz": -420
    },
    "id": "EljvWd0YXEx6",
    "outputId": "7fd2ecf3-f316-437a-f364-15a2f6dd21a7"
   },
   "outputs": [
    {
     "name": "stdout",
     "output_type": "stream",
     "text": [
      "Requirement already satisfied: import_ipynb in /usr/local/lib/python3.6/dist-packages (0.1.3)\n"
     ]
    }
   ],
   "source": [
    "!pip install import_ipynb\n",
    "import import_ipynb\n",
    "import sys\n",
    "import importlib"
   ]
  },
  {
   "cell_type": "code",
   "execution_count": 58,
   "metadata": {
    "colab": {},
    "colab_type": "code",
    "executionInfo": {
     "elapsed": 2560,
     "status": "ok",
     "timestamp": 1594285605206,
     "user": {
      "displayName": "Note Dharma",
      "photoUrl": "",
      "userId": "15327139553288422567"
     },
     "user_tz": -420
    },
    "id": "5YF2lhJ0X-pb"
   },
   "outputs": [],
   "source": [
    "import load_data"
   ]
  },
  {
   "cell_type": "markdown",
   "metadata": {
    "colab_type": "text",
    "id": "GGQ22gnvahix"
   },
   "source": [
    "Reload for colab"
   ]
  },
  {
   "cell_type": "code",
   "execution_count": 63,
   "metadata": {
    "colab": {
     "base_uri": "https://localhost:8080/",
     "height": 71
    },
    "colab_type": "code",
    "executionInfo": {
     "elapsed": 889,
     "status": "ok",
     "timestamp": 1594285718795,
     "user": {
      "displayName": "Note Dharma",
      "photoUrl": "",
      "userId": "15327139553288422567"
     },
     "user_tz": -420
    },
    "id": "7R7Dh-dRZ8sQ",
    "outputId": "e449c521-1db9-4fd5-bba4-c90248f6f0d2"
   },
   "outputs": [
    {
     "name": "stdout",
     "output_type": "stream",
     "text": [
      "importing Jupyter notebook from load_data.ipynb\n",
      "Drive already mounted at /content/gdrive; to attempt to forcibly remount, call drive.mount(\"/content/gdrive\", force_remount=True).\n"
     ]
    }
   ],
   "source": [
    "importlib.reload(sys.modules[\"load_data\"])\n",
    "import load_data"
   ]
  },
  {
   "cell_type": "markdown",
   "metadata": {
    "colab_type": "text",
    "id": "0bSTdfLCX1Bk"
   },
   "source": [
    "####For jupyter"
   ]
  },
  {
   "cell_type": "markdown",
   "metadata": {
    "colab_type": "text",
    "id": "HBieCF8ygGvi"
   },
   "source": [
    "Install and Import first run"
   ]
  },
  {
   "cell_type": "code",
   "execution_count": 4,
   "metadata": {
    "colab": {},
    "colab_type": "code",
    "id": "fh5MFoYzfsYR"
   },
   "outputs": [],
   "source": [
    "from importnb import Notebook\n",
    "with Notebook():\n",
    "        import load_data"
   ]
  },
  {
   "cell_type": "markdown",
   "metadata": {
    "colab_type": "text",
    "id": "XscCK0XHfsYV"
   },
   "source": [
    "Reload from jupyter"
   ]
  },
  {
   "cell_type": "code",
   "execution_count": 11,
   "metadata": {
    "colab": {},
    "colab_type": "code",
    "id": "nhP6FT85fsYW"
   },
   "outputs": [],
   "source": [
    "import importlib"
   ]
  },
  {
   "cell_type": "code",
   "execution_count": 12,
   "metadata": {
    "colab": {},
    "colab_type": "code",
    "id": "Z1yu79e4fsYa"
   },
   "outputs": [],
   "source": [
    "with Notebook(): \n",
    "    importlib.reload(load_data)"
   ]
  },
  {
   "cell_type": "markdown",
   "metadata": {
    "colab_type": "text",
    "id": "gR_lx9V4elaC"
   },
   "source": [
    "#### Import, Run and Explore"
   ]
  },
  {
   "cell_type": "code",
   "execution_count": 5,
   "metadata": {
    "colab": {
     "base_uri": "https://localhost:8080/",
     "height": 34
    },
    "colab_type": "code",
    "executionInfo": {
     "elapsed": 1047,
     "status": "ok",
     "timestamp": 1594285750647,
     "user": {
      "displayName": "Note Dharma",
      "photoUrl": "",
      "userId": "15327139553288422567"
     },
     "user_tz": -420
    },
    "id": "RDPu5uEge6-o",
    "outputId": "931149b4-edd8-4d9b-d5f5-7e34538ba9b3"
   },
   "outputs": [
    {
     "name": "stdout",
     "output_type": "stream",
     "text": [
      "5 * 10 = 50. Yes it works\n"
     ]
    }
   ],
   "source": [
    "load_data.test(5)"
   ]
  },
  {
   "cell_type": "code",
   "execution_count": 64,
   "metadata": {
    "colab": {
     "base_uri": "https://localhost:8080/",
     "height": 272
    },
    "colab_type": "code",
    "executionInfo": {
     "elapsed": 1056,
     "status": "ok",
     "timestamp": 1594285725219,
     "user": {
      "displayName": "Note Dharma",
      "photoUrl": "",
      "userId": "15327139553288422567"
     },
     "user_tz": -420
    },
    "id": "opy-dW6WfARI",
    "outputId": "fa19a0b1-83b2-4380-b916-cc898089503f"
   },
   "outputs": [
    {
     "data": {
      "text/plain": [
       "['__builtins__',\n",
       " '__doc__',\n",
       " '__file__',\n",
       " '__loader__',\n",
       " '__name__',\n",
       " '__package__',\n",
       " '__spec__',\n",
       " 'drive',\n",
       " 'get_ipython',\n",
       " 'load_tfds',\n",
       " 'np',\n",
       " 'plt',\n",
       " 'test',\n",
       " 'tf',\n",
       " 'tfds']"
      ]
     },
     "execution_count": 64,
     "metadata": {
      "tags": []
     },
     "output_type": "execute_result"
    }
   ],
   "source": [
    "dir(load_data)"
   ]
  },
  {
   "cell_type": "code",
   "execution_count": 7,
   "metadata": {
    "colab": {
     "base_uri": "https://localhost:8080/",
     "height": 459
    },
    "colab_type": "code",
    "executionInfo": {
     "elapsed": 877,
     "status": "ok",
     "timestamp": 1594285731068,
     "user": {
      "displayName": "Note Dharma",
      "photoUrl": "",
      "userId": "15327139553288422567"
     },
     "user_tz": -420
    },
    "id": "AncWl--FfF34",
    "outputId": "b87e96ce-ae66-4bae-fb71-76d1320dba13"
   },
   "outputs": [
    {
     "name": "stdout",
     "output_type": "stream",
     "text": [
      "Help on module load_data:\n",
      "\n",
      "NAME\n",
      "    load_data\n",
      "\n",
      "DESCRIPTION\n",
      "    Load tf dataset\n",
      "    Preprocess tfds image data\n",
      "\n",
      "FUNCTIONS\n",
      "    load_tfds(name, location)\n",
      "        Load Tensorflow Dataset to Virtual from tfds web\n",
      "        \n",
      "        Args(2):\n",
      "          name: str, e.g. \"cifar10\"\n",
      "          location : str , \"web\", \"local\", \"gdrive\",\n",
      "            or data_dir, e.g. local: r\"C:/Users/pdhar\", gdrive: \"/content/gdrive/My Drive\"\n",
      "        Output(2):\n",
      "          dataset: tfds dataset\n",
      "          info: tfds.core.DatasetInfo\n",
      "    \n",
      "    test(num)\n",
      "\n",
      "DATA\n",
      "    __test__ = {'string-43': '# Modules\\n', 'string-72': '# Load tfds data...\n",
      "\n",
      "FILE\n",
      "    c:\\users\\pdhar\\google drive\\github\\resnet_recreate\\load_data.ipynb\n",
      "\n",
      "\n"
     ]
    }
   ],
   "source": [
    "help(load_data)"
   ]
  },
  {
   "cell_type": "markdown",
   "metadata": {
    "colab_type": "text",
    "id": "eucfGfTJ1vd5"
   },
   "source": [
    "# Load Dataset"
   ]
  },
  {
   "cell_type": "code",
   "execution_count": 12,
   "metadata": {},
   "outputs": [],
   "source": [
    "name = \"cifar10\"\n",
    "location = \"local\""
   ]
  },
  {
   "cell_type": "code",
   "execution_count": 13,
   "metadata": {},
   "outputs": [
    {
     "data": {
      "text/plain": [
       "tfds.core.DatasetInfo(\n",
       "    name='cifar10',\n",
       "    version=1.0.2,\n",
       "    description='The CIFAR-10 dataset consists of 60000 32x32 colour images in 10 classes, with 6000 images per class. There are 50000 training images and 10000 test images.',\n",
       "    urls=['https://www.cs.toronto.edu/~kriz/cifar.html'],\n",
       "    features=FeaturesDict({\n",
       "        'image': Image(shape=(32, 32, 3), dtype=tf.uint8),\n",
       "        'label': ClassLabel(shape=(), dtype=tf.int64, num_classes=10),\n",
       "    }),\n",
       "    total_num_examples=60000,\n",
       "    splits={\n",
       "        'test': 10000,\n",
       "        'train': 50000,\n",
       "    },\n",
       "    supervised_keys=('image', 'label'),\n",
       "    citation=\"\"\"@TECHREPORT{Krizhevsky09learningmultiple,\n",
       "        author = {Alex Krizhevsky},\n",
       "        title = {Learning multiple layers of features from tiny images},\n",
       "        institution = {},\n",
       "        year = {2009}\n",
       "    }\"\"\",\n",
       "    redistribution_info=,\n",
       ")"
      ]
     },
     "execution_count": 13,
     "metadata": {},
     "output_type": "execute_result"
    }
   ],
   "source": [
    "dataset, info = load_data.load_tfds(name, location)\n",
    "info"
   ]
  }
 ],
 "metadata": {
  "colab": {
   "authorship_tag": "ABX9TyNUG4ny2HoYh5l9JaRmVG7+",
   "collapsed_sections": [
    "0bSTdfLCX1Bk"
   ],
   "name": "main.ipynb",
   "provenance": [],
   "toc_visible": true
  },
  "kernelspec": {
   "display_name": "Python 3",
   "language": "python",
   "name": "python3"
  },
  "language_info": {
   "codemirror_mode": {
    "name": "ipython",
    "version": 3
   },
   "file_extension": ".py",
   "mimetype": "text/x-python",
   "name": "python",
   "nbconvert_exporter": "python",
   "pygments_lexer": "ipython3",
   "version": "3.7.7"
  }
 },
 "nbformat": 4,
 "nbformat_minor": 1
}
