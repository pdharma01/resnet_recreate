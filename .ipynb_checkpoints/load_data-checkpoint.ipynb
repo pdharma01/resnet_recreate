{
 "cells": [
  {
   "cell_type": "code",
   "execution_count": null,
   "metadata": {
    "colab": {},
    "colab_type": "code",
    "id": "YrIOpjeh0bPM"
   },
   "outputs": [],
   "source": [
    "\"\"\"\n",
    "Load tf dataset\n",
    "Preprocess tfds image data\n",
    "\"\"\""
   ]
  },
  {
   "cell_type": "code",
   "execution_count": null,
   "metadata": {
    "colab": {},
    "colab_type": "code",
    "id": "dJrs92fPYrNW"
   },
   "outputs": [],
   "source": [
    "def test(num):\n",
    "  print(f\"{num} * 10 = {num * 10}. Yes it works\")"
   ]
  },
  {
   "cell_type": "markdown",
   "metadata": {
    "colab_type": "text",
    "id": "iEeTJiBDf_Me"
   },
   "source": [
    "# Modules"
   ]
  },
  {
   "cell_type": "code",
   "execution_count": null,
   "metadata": {
    "colab": {},
    "colab_type": "code",
    "id": "jEO4by_Nf_Mf"
   },
   "outputs": [],
   "source": [
    "import numpy as np\n",
    "import tensorflow as tf\n",
    "import tensorflow_datasets as tfds\n",
    "\n",
    "import matplotlib.pyplot as plt"
   ]
  },
  {
   "cell_type": "markdown",
   "metadata": {
    "colab_type": "text",
    "id": "_Wyr4RUezfpY"
   },
   "source": [
    "# Load tfds dataset"
   ]
  },
  {
   "cell_type": "code",
   "execution_count": 1,
   "metadata": {
    "colab": {},
    "colab_type": "code",
    "id": "KEzvi4-amq74"
   },
   "outputs": [],
   "source": [
    "def load_tfds(name, location):\n",
    "  \"\"\"\n",
    "  Load Tensorflow Dataset to Virtual from tfds web\n",
    "\n",
    "  Args(2):\n",
    "    name: str, e.g. \"cifar10\"\n",
    "    location : str , \"web\", \"local\", \"gdrive\",\n",
    "      or data_dir, e.g. local: r\"C:/Users/pdhar\", gdrive: \"/content/gdrive/My Drive\"\n",
    "  Output(2):\n",
    "    dataset: tfds dataset\n",
    "    info: tfds.core.DatasetInfo\n",
    "  \"\"\"\n",
    "  \n",
    "\n",
    "  if location == \"web\":\n",
    "    dataset, info = tfds.load(name = name, as_supervised= True, with_info = True)\n",
    "\n",
    "  else:\n",
    "    if location == \"local\":\n",
    "      data_dir =r\"C:\\Users\\pdhar\\Google Drive\\ML\\datasets\\tensorflow_datasets\"\n",
    "\n",
    "    elif location == \"gdrive\":\n",
    "      data_dir =\"/content/gdrive/My Drive/ML/datasets/tensorflow_datasets/\"\n",
    "\n",
    "    else:\n",
    "      data_dir = location\n",
    "\n",
    "    dataset, info = tfds.load(name = name, as_supervised= True, with_info = True, shuffle_files=True, \n",
    "                            data_dir = data_dir)\n",
    "    \n",
    "  return dataset, info\n"
   ]
  }
 ],
 "metadata": {
  "colab": {
   "collapsed_sections": [],
   "name": "load_data.ipynb",
   "provenance": []
  },
  "kernelspec": {
   "display_name": "Python 3",
   "language": "python",
   "name": "python3"
  },
  "language_info": {
   "codemirror_mode": {
    "name": "ipython",
    "version": 3
   },
   "file_extension": ".py",
   "mimetype": "text/x-python",
   "name": "python",
   "nbconvert_exporter": "python",
   "pygments_lexer": "ipython3",
   "version": "3.7.7"
  }
 },
 "nbformat": 4,
 "nbformat_minor": 1
}
