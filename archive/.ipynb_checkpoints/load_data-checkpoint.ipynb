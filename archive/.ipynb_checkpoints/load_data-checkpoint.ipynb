{
 "cells": [
  {
   "cell_type": "code",
   "execution_count": null,
   "metadata": {
    "colab": {},
    "colab_type": "code",
    "id": "YrIOpjeh0bPM"
   },
   "outputs": [],
   "source": [
    "\"\"\"\n",
    "Load tfds dataset\n",
    "Preprocess tfds images\n",
    "\"\"\""
   ]
  },
  {
   "cell_type": "markdown",
   "metadata": {
    "colab_type": "text",
    "id": "iEeTJiBDf_Me"
   },
   "source": [
    "# Modules"
   ]
  },
  {
   "cell_type": "code",
   "execution_count": 45,
   "metadata": {
    "colab": {},
    "colab_type": "code",
    "executionInfo": {
     "elapsed": 3633,
     "status": "ok",
     "timestamp": 1594286282032,
     "user": {
      "displayName": "Note Dharma",
      "photoUrl": "",
      "userId": "15327139553288422567"
     },
     "user_tz": -420
    },
    "id": "jEO4by_Nf_Mf"
   },
   "outputs": [],
   "source": [
    "import numpy as np\n",
    "import tensorflow as tf\n",
    "import tensorflow_datasets as tfds\n",
    "\n",
    "import matplotlib.pyplot as plt"
   ]
  },
  {
   "cell_type": "markdown",
   "metadata": {
    "colab_type": "text",
    "id": "8QqEeYnjugvD"
   },
   "source": [
    "### Mount Drive"
   ]
  },
  {
   "cell_type": "code",
   "execution_count": null,
   "metadata": {
    "colab": {
     "base_uri": "https://localhost:8080/",
     "height": 122
    },
    "colab_type": "code",
    "executionInfo": {
     "elapsed": 25530,
     "status": "ok",
     "timestamp": 1589552684279,
     "user": {
      "displayName": "Note Dharma",
      "photoUrl": "",
      "userId": "15327139553288422567"
     },
     "user_tz": -420
    },
    "id": "GWOuT5aokaWm",
    "outputId": "5706c0c3-6e9e-48ac-dffd-011b0191de01"
   },
   "outputs": [
    {
     "name": "stdout",
     "output_type": "stream",
     "text": [
      "Go to this URL in a browser: https://accounts.google.com/o/oauth2/auth?client_id=947318989803-6bn6qk8qdgf4n4g3pfee6491hc0brc4i.apps.googleusercontent.com&redirect_uri=urn%3aietf%3awg%3aoauth%3a2.0%3aoob&response_type=code&scope=email%20https%3a%2f%2fwww.googleapis.com%2fauth%2fdocs.test%20https%3a%2f%2fwww.googleapis.com%2fauth%2fdrive%20https%3a%2f%2fwww.googleapis.com%2fauth%2fdrive.photos.readonly%20https%3a%2f%2fwww.googleapis.com%2fauth%2fpeopleapi.readonly\n",
      "\n",
      "Enter your authorization code:\n",
      "··········\n",
      "Mounted at /content/gdrive\n"
     ]
    }
   ],
   "source": [
    "from google.colab import drive\n",
    "drive.mount(\"/content/gdrive\")"
   ]
  },
  {
   "cell_type": "markdown",
   "metadata": {
    "colab_type": "text",
    "id": "Et8mr3wihFjX"
   },
   "source": [
    "# Load tfds dataset"
   ]
  },
  {
   "cell_type": "code",
   "execution_count": null,
   "metadata": {
    "colab": {},
    "colab_type": "code",
    "id": "sbfJ5HiZnYAs"
   },
   "outputs": [],
   "source": [
    "def load_tfds(name, location):\n",
    "  \"\"\"\n",
    "  Load Tensorflow Dataset to Virtual from tfds web\n",
    "  Args(2):\n",
    "    name: str, e.g. \"cifar10\"\n",
    "    location : str , \"web\", \"local\", \"gdrive\",\n",
    "      or data_dir, e.g. local: r\"C:/Users/pdhar\", gdrive: \"/content/gdrive/My Drive\"\n",
    "  Output(2):\n",
    "    dataset: tfds dataset\n",
    "    info: tfds.core.DatasetInfo\n",
    "  \"\"\"\n",
    "\n",
    "  if location == \"web\":\n",
    "    dataset, info = tfds.load(name = name, as_supervised= True, with_info = True)\n",
    "\n",
    "  else:\n",
    "    if location == \"local\":\n",
    "      data_dir =r\"C:\\Users\\pdhar\\Google Drive\\ML\\datasets\\tensorflow_datasets\"\n",
    "\n",
    "    elif location == \"gdrive\":\n",
    "      data_dir =\"/content/gdrive/My Drive/ML/datasets/tensorflow_datasets\"\n",
    "\n",
    "    else:\n",
    "      data_dir = location\n",
    "\n",
    "    dataset, info = tfds.load(name = name, as_supervised= True, with_info = True, shuffle_files=True, \n",
    "                            data_dir = data_dir, download=False)\n",
    "    \n",
    "  return dataset, info"
   ]
  },
  {
   "cell_type": "markdown",
   "metadata": {
    "colab_type": "text",
    "id": "XoVrU8opf_Mi"
   },
   "source": [
    "### Load tf dataset"
   ]
  },
  {
   "cell_type": "code",
   "execution_count": 51,
   "metadata": {
    "colab": {},
    "colab_type": "code",
    "executionInfo": {
     "elapsed": 992,
     "status": "ok",
     "timestamp": 1594286403068,
     "user": {
      "displayName": "Note Dharma",
      "photoUrl": "",
      "userId": "15327139553288422567"
     },
     "user_tz": -420
    },
    "id": "hG2qJzrtqfTE"
   },
   "outputs": [],
   "source": [
    "model_name = \"cifar10\"\n",
    "\n",
    "# local drive dataset directory\n",
    "data_dir =r\"C:\\Users\\pdhar\\Google Drive\\ML\\datasets\\tensorflow_datasets\" #r is fix for windows dir string\n",
    "\n",
    "# gdrive dataset directory\n",
    "# data_dir =\"/content/gdrive/My Drive/ML/datasets/tensorflow_datasets\""
   ]
  },
  {
   "cell_type": "code",
   "execution_count": null,
   "metadata": {
    "colab": {},
    "colab_type": "code",
    "id": "1J7hKaSef_Mi"
   },
   "outputs": [],
   "source": [
    "def load_tfds_web(model_name):\n",
    "  \"\"\"\n",
    "  Load Tensorflow Dataset to Virtual from tfds web\n",
    "  Args(1):\n",
    "    model_name: str, e.g. \"cifar10\"\n",
    "  Output(2):\n",
    "    dataset: tfds dataset\n",
    "    info: tfds.core.DatasetInfo\n",
    "  \"\"\"\n",
    "  \n",
    "  dataset, info = tfds.load(name = model_name, as_supervised= True, with_info = True)\n",
    "  return dataset, info"
   ]
  },
  {
   "cell_type": "markdown",
   "metadata": {
    "colab_type": "text",
    "id": "x_vYIW_Rf_Mn"
   },
   "source": [
    "### Reload cifar10 from local"
   ]
  },
  {
   "cell_type": "code",
   "execution_count": 48,
   "metadata": {
    "colab": {},
    "colab_type": "code",
    "executionInfo": {
     "elapsed": 1087,
     "status": "ok",
     "timestamp": 1594286327876,
     "user": {
      "displayName": "Note Dharma",
      "photoUrl": "",
      "userId": "15327139553288422567"
     },
     "user_tz": -420
    },
    "id": "RRQjFvFMf_Mn"
   },
   "outputs": [],
   "source": [
    "def load_tfds_drive(model_name, data_dir):\n",
    "  \"\"\"\n",
    "  Load Tensorflow Dataset to Virtual from local or gdrive\n",
    "  Args(2):\n",
    "    model_name: str, e.g. \"cifar10\"\n",
    "    data_dir: str, \n",
    "      e.g. local: r\"C:Users\", gdrive: \"/content/gdrive/My Drive\"\n",
    "  Output(2):\n",
    "    dataset: tfds dataset\n",
    "    info: tfds.core.DatasetInfo\n",
    "  \"\"\"\n",
    "  dataset, info = tfds.load(name = model_name, as_supervised= True, with_info = True, shuffle_files=True, \n",
    "                            data_dir = data_dir, download=False)\n",
    "  return dataset, info"
   ]
  },
  {
   "cell_type": "code",
   "execution_count": 52,
   "metadata": {
    "colab": {
     "base_uri": "https://localhost:8080/",
     "height": 341
    },
    "colab_type": "code",
    "executionInfo": {
     "elapsed": 1531,
     "status": "error",
     "timestamp": 1594286411396,
     "user": {
      "displayName": "Note Dharma",
      "photoUrl": "",
      "userId": "15327139553288422567"
     },
     "user_tz": -420
    },
    "id": "B3Dbr3FB3vd1",
    "outputId": "9011520b-0b65-4855-9dce-343892fb09fa"
   },
   "outputs": [
    {
     "ename": "AssertionError",
     "evalue": "ignored",
     "output_type": "error",
     "traceback": [
      "\u001b[0;31m---------------------------------------------------------------------------\u001b[0m",
      "\u001b[0;31mAssertionError\u001b[0m                            Traceback (most recent call last)",
      "\u001b[0;32m<ipython-input-52-c31867cc388d>\u001b[0m in \u001b[0;36m<module>\u001b[0;34m()\u001b[0m\n\u001b[0;32m----> 1\u001b[0;31m \u001b[0mdataset\u001b[0m\u001b[0;34m,\u001b[0m \u001b[0minfo\u001b[0m \u001b[0;34m=\u001b[0m \u001b[0mload_tfds_drive\u001b[0m\u001b[0;34m(\u001b[0m\u001b[0mmodel_name\u001b[0m\u001b[0;34m,\u001b[0m \u001b[0mdata_dir\u001b[0m\u001b[0;34m)\u001b[0m\u001b[0;34m\u001b[0m\u001b[0;34m\u001b[0m\u001b[0m\n\u001b[0m",
      "\u001b[0;32m<ipython-input-48-6e2663c47f89>\u001b[0m in \u001b[0;36mload_tfds_drive\u001b[0;34m(model_name, data_dir)\u001b[0m\n\u001b[1;32m     11\u001b[0m   \"\"\"\n\u001b[1;32m     12\u001b[0m   dataset, info = tfds.load(name = model_name, as_supervised= True, with_info = True, shuffle_files=True, \n\u001b[0;32m---> 13\u001b[0;31m                             data_dir = data_dir, download=False)\n\u001b[0m\u001b[1;32m     14\u001b[0m   \u001b[0;32mreturn\u001b[0m \u001b[0mdataset\u001b[0m\u001b[0;34m,\u001b[0m \u001b[0minfo\u001b[0m\u001b[0;34m\u001b[0m\u001b[0;34m\u001b[0m\u001b[0m\n",
      "\u001b[0;32m/usr/local/lib/python3.6/dist-packages/tensorflow_datasets/core/api_utils.py\u001b[0m in \u001b[0;36mdisallow_positional_args_dec\u001b[0;34m(fn, instance, args, kwargs)\u001b[0m\n\u001b[1;32m     50\u001b[0m     \u001b[0m_check_no_positional\u001b[0m\u001b[0;34m(\u001b[0m\u001b[0mfn\u001b[0m\u001b[0;34m,\u001b[0m \u001b[0margs\u001b[0m\u001b[0;34m,\u001b[0m \u001b[0mismethod\u001b[0m\u001b[0;34m,\u001b[0m \u001b[0mallowed\u001b[0m\u001b[0;34m=\u001b[0m\u001b[0mallowed\u001b[0m\u001b[0;34m)\u001b[0m\u001b[0;34m\u001b[0m\u001b[0;34m\u001b[0m\u001b[0m\n\u001b[1;32m     51\u001b[0m     \u001b[0m_check_required\u001b[0m\u001b[0;34m(\u001b[0m\u001b[0mfn\u001b[0m\u001b[0;34m,\u001b[0m \u001b[0mkwargs\u001b[0m\u001b[0;34m)\u001b[0m\u001b[0;34m\u001b[0m\u001b[0;34m\u001b[0m\u001b[0m\n\u001b[0;32m---> 52\u001b[0;31m     \u001b[0;32mreturn\u001b[0m \u001b[0mfn\u001b[0m\u001b[0;34m(\u001b[0m\u001b[0;34m*\u001b[0m\u001b[0margs\u001b[0m\u001b[0;34m,\u001b[0m \u001b[0;34m**\u001b[0m\u001b[0mkwargs\u001b[0m\u001b[0;34m)\u001b[0m\u001b[0;34m\u001b[0m\u001b[0;34m\u001b[0m\u001b[0m\n\u001b[0m\u001b[1;32m     53\u001b[0m \u001b[0;34m\u001b[0m\u001b[0m\n\u001b[1;32m     54\u001b[0m   \u001b[0;32mreturn\u001b[0m \u001b[0mdisallow_positional_args_dec\u001b[0m\u001b[0;34m(\u001b[0m\u001b[0mwrapped\u001b[0m\u001b[0;34m)\u001b[0m  \u001b[0;31m# pylint: disable=no-value-for-parameter\u001b[0m\u001b[0;34m\u001b[0m\u001b[0;34m\u001b[0m\u001b[0m\n",
      "\u001b[0;32m/usr/local/lib/python3.6/dist-packages/tensorflow_datasets/core/registered.py\u001b[0m in \u001b[0;36mload\u001b[0;34m(name, split, data_dir, batch_size, in_memory, shuffle_files, download, as_supervised, decoders, read_config, with_info, builder_kwargs, download_and_prepare_kwargs, as_dataset_kwargs, try_gcs)\u001b[0m\n\u001b[1;32m    316\u001b[0m   \u001b[0mas_dataset_kwargs\u001b[0m\u001b[0;34m.\u001b[0m\u001b[0msetdefault\u001b[0m\u001b[0;34m(\u001b[0m\u001b[0;34m\"read_config\"\u001b[0m\u001b[0;34m,\u001b[0m \u001b[0mread_config\u001b[0m\u001b[0;34m)\u001b[0m\u001b[0;34m\u001b[0m\u001b[0;34m\u001b[0m\u001b[0m\n\u001b[1;32m    317\u001b[0m \u001b[0;34m\u001b[0m\u001b[0m\n\u001b[0;32m--> 318\u001b[0;31m   \u001b[0mds\u001b[0m \u001b[0;34m=\u001b[0m \u001b[0mdbuilder\u001b[0m\u001b[0;34m.\u001b[0m\u001b[0mas_dataset\u001b[0m\u001b[0;34m(\u001b[0m\u001b[0;34m**\u001b[0m\u001b[0mas_dataset_kwargs\u001b[0m\u001b[0;34m)\u001b[0m\u001b[0;34m\u001b[0m\u001b[0;34m\u001b[0m\u001b[0m\n\u001b[0m\u001b[1;32m    319\u001b[0m   \u001b[0;32mif\u001b[0m \u001b[0mwith_info\u001b[0m\u001b[0;34m:\u001b[0m\u001b[0;34m\u001b[0m\u001b[0;34m\u001b[0m\u001b[0m\n\u001b[1;32m    320\u001b[0m     \u001b[0;32mreturn\u001b[0m \u001b[0mds\u001b[0m\u001b[0;34m,\u001b[0m \u001b[0mdbuilder\u001b[0m\u001b[0;34m.\u001b[0m\u001b[0minfo\u001b[0m\u001b[0;34m\u001b[0m\u001b[0;34m\u001b[0m\u001b[0m\n",
      "\u001b[0;32m/usr/local/lib/python3.6/dist-packages/tensorflow_datasets/core/api_utils.py\u001b[0m in \u001b[0;36mdisallow_positional_args_dec\u001b[0;34m(fn, instance, args, kwargs)\u001b[0m\n\u001b[1;32m     50\u001b[0m     \u001b[0m_check_no_positional\u001b[0m\u001b[0;34m(\u001b[0m\u001b[0mfn\u001b[0m\u001b[0;34m,\u001b[0m \u001b[0margs\u001b[0m\u001b[0;34m,\u001b[0m \u001b[0mismethod\u001b[0m\u001b[0;34m,\u001b[0m \u001b[0mallowed\u001b[0m\u001b[0;34m=\u001b[0m\u001b[0mallowed\u001b[0m\u001b[0;34m)\u001b[0m\u001b[0;34m\u001b[0m\u001b[0;34m\u001b[0m\u001b[0m\n\u001b[1;32m     51\u001b[0m     \u001b[0m_check_required\u001b[0m\u001b[0;34m(\u001b[0m\u001b[0mfn\u001b[0m\u001b[0;34m,\u001b[0m \u001b[0mkwargs\u001b[0m\u001b[0;34m)\u001b[0m\u001b[0;34m\u001b[0m\u001b[0;34m\u001b[0m\u001b[0m\n\u001b[0;32m---> 52\u001b[0;31m     \u001b[0;32mreturn\u001b[0m \u001b[0mfn\u001b[0m\u001b[0;34m(\u001b[0m\u001b[0;34m*\u001b[0m\u001b[0margs\u001b[0m\u001b[0;34m,\u001b[0m \u001b[0;34m**\u001b[0m\u001b[0mkwargs\u001b[0m\u001b[0;34m)\u001b[0m\u001b[0;34m\u001b[0m\u001b[0;34m\u001b[0m\u001b[0m\n\u001b[0m\u001b[1;32m     53\u001b[0m \u001b[0;34m\u001b[0m\u001b[0m\n\u001b[1;32m     54\u001b[0m   \u001b[0;32mreturn\u001b[0m \u001b[0mdisallow_positional_args_dec\u001b[0m\u001b[0;34m(\u001b[0m\u001b[0mwrapped\u001b[0m\u001b[0;34m)\u001b[0m  \u001b[0;31m# pylint: disable=no-value-for-parameter\u001b[0m\u001b[0;34m\u001b[0m\u001b[0;34m\u001b[0m\u001b[0m\n",
      "\u001b[0;32m/usr/local/lib/python3.6/dist-packages/tensorflow_datasets/core/dataset_builder.py\u001b[0m in \u001b[0;36mas_dataset\u001b[0;34m(self, split, batch_size, shuffle_files, decoders, read_config, as_supervised, in_memory)\u001b[0m\n\u001b[1;32m    462\u001b[0m            \u001b[0;34m\"dataset_builder.download_and_prepare(), or pass download=True to \"\u001b[0m\u001b[0;34m\u001b[0m\u001b[0;34m\u001b[0m\u001b[0m\n\u001b[1;32m    463\u001b[0m            \u001b[0;34m\"tfds.load() before trying to access the tf.data.Dataset object.\"\u001b[0m\u001b[0;34m\u001b[0m\u001b[0;34m\u001b[0m\u001b[0m\n\u001b[0;32m--> 464\u001b[0;31m           ) % (self.name, self._data_dir_root))\n\u001b[0m\u001b[1;32m    465\u001b[0m \u001b[0;34m\u001b[0m\u001b[0m\n\u001b[1;32m    466\u001b[0m     \u001b[0;31m# By default, return all splits\u001b[0m\u001b[0;34m\u001b[0m\u001b[0;34m\u001b[0m\u001b[0;34m\u001b[0m\u001b[0m\n",
      "\u001b[0;31mAssertionError\u001b[0m: Dataset cifar10: could not find data in C:\\Users\\pdhar\\Google Drive\\ML\\datasets\\tensorflow_datasets. Please make sure to call dataset_builder.download_and_prepare(), or pass download=True to tfds.load() before trying to access the tf.data.Dataset object."
     ]
    }
   ],
   "source": [
    "dataset, info = load_tfds_drive(model_name, data_dir)"
   ]
  },
  {
   "cell_type": "code",
   "execution_count": 49,
   "metadata": {
    "colab": {
     "base_uri": "https://localhost:8080/",
     "height": 164
    },
    "colab_type": "code",
    "executionInfo": {
     "elapsed": 1030,
     "status": "error",
     "timestamp": 1594286335021,
     "user": {
      "displayName": "Note Dharma",
      "photoUrl": "",
      "userId": "15327139553288422567"
     },
     "user_tz": -420
    },
    "id": "ZGqEu-LDf_Mr",
    "outputId": "91fe7bd4-7593-4137-f27e-efe23d901994",
    "scrolled": true
   },
   "outputs": [
    {
     "ename": "NameError",
     "evalue": "ignored",
     "output_type": "error",
     "traceback": [
      "\u001b[0;31m---------------------------------------------------------------------------\u001b[0m",
      "\u001b[0;31mNameError\u001b[0m                                 Traceback (most recent call last)",
      "\u001b[0;32m<ipython-input-49-886ead46232a>\u001b[0m in \u001b[0;36m<module>\u001b[0;34m()\u001b[0m\n\u001b[0;32m----> 1\u001b[0;31m \u001b[0minfo\u001b[0m\u001b[0;34m\u001b[0m\u001b[0;34m\u001b[0m\u001b[0m\n\u001b[0m",
      "\u001b[0;31mNameError\u001b[0m: name 'info' is not defined"
     ]
    }
   ],
   "source": [
    "info"
   ]
  },
  {
   "cell_type": "markdown",
   "metadata": {
    "colab_type": "text",
    "id": "vOuWagNbf_Mu"
   },
   "source": [
    "# Preprocess"
   ]
  },
  {
   "cell_type": "code",
   "execution_count": null,
   "metadata": {
    "colab": {},
    "colab_type": "code",
    "id": "A6FCPU6Yf_Mu"
   },
   "outputs": [],
   "source": [
    "train_raw = dataset[\"train\"]\n",
    "test_raw = dataset[\"test\"]"
   ]
  },
  {
   "cell_type": "code",
   "execution_count": null,
   "metadata": {
    "colab": {},
    "colab_type": "code",
    "id": "1qkx8WDUf_Mx"
   },
   "outputs": [],
   "source": [
    "INPUT_SHAPE = info.features[\"image\"].shape\n",
    "\n",
    "num_classes = info.features[\"label\"].num_classes\n",
    "class_names = info.features[\"label\"].names\n",
    "num_train = info.splits[\"train\"].num_examples\n",
    "num_test = info.splits[\"train\"].num_examples"
   ]
  },
  {
   "cell_type": "markdown",
   "metadata": {
    "colab_type": "text",
    "id": "A1b-hy6sf_M0"
   },
   "source": [
    "### Batch"
   ]
  },
  {
   "cell_type": "code",
   "execution_count": null,
   "metadata": {
    "colab": {},
    "colab_type": "code",
    "id": "gWAPgyiXf_M1"
   },
   "outputs": [],
   "source": [
    "BATCH_SIZE = 32"
   ]
  },
  {
   "cell_type": "code",
   "execution_count": null,
   "metadata": {
    "colab": {},
    "colab_type": "code",
    "id": "HZQ2aDXIf_M3"
   },
   "outputs": [],
   "source": [
    "train = train_raw.map(lambda img, label: (tf.image.convert_image_dtype(img,dtype=tf.float32), label)) #normalize\n",
    "train = train.shuffle(1000).repeat() #shuffle and repeat\n",
    "train = train.batch(BATCH_SIZE).prefetch(1) #batchsize 32\n",
    "\n",
    "test = test_raw.map(lambda img, label: (tf.image.convert_image_dtype(img,dtype=tf.float32), label))\n",
    "test = test.batch(BATCH_SIZE).prefetch(1)"
   ]
  },
  {
   "cell_type": "code",
   "execution_count": null,
   "metadata": {
    "colab": {},
    "colab_type": "code",
    "id": "zNvBhdFvf_M6",
    "outputId": "0280933d-56ca-4932-8d80-24484adedd7c"
   },
   "outputs": [
    {
     "name": "stdout",
     "output_type": "stream",
     "text": [
      "INPUT_SHAPE: (32, 32, 3)\n",
      "batch, height, width, channel: (32, 32, 32, 3)\n",
      "batch label: (32,)\n",
      "data type: <dtype: 'float32'>\n",
      "0.9921569\n"
     ]
    }
   ],
   "source": [
    "print(f\"INPUT_SHAPE: {INPUT_SHAPE}\")\n",
    "for X_batch, y_batch in train.take(1):\n",
    "    print(f\"batch, height, width, channel: {X_batch.shape}\")\n",
    "    print(f\"batch label: {y_batch.shape}\")\n",
    "    print(f\"data type: {X_batch.dtype}\")"
   ]
  },
  {
   "cell_type": "code",
   "execution_count": null,
   "metadata": {
    "colab": {},
    "colab_type": "code",
    "id": "8HXNms2rf_M8",
    "outputId": "a0afe761-e4ca-4ce6-9eb5-73a0d9d52c08"
   },
   "outputs": [
    {
     "data": {
      "image/png": "[encoded data removed]",
      "text/plain": [
       "<Figure size 432x288 with 1 Axes>"
      ]
     },
     "metadata": {
      "needs_background": "light",
      "tags": []
     },
     "output_type": "display_data"
    }
   ],
   "source": [
    "for X_batch, y_batch in train.take(1):\n",
    "    plt.imshow(X_batch[0])\n",
    "    plt.title(class_names[y_batch[0]])"
   ]
  },
  {
   "cell_type": "markdown",
   "metadata": {
    "colab_type": "text",
    "id": "QgsK9hYYh07z"
   },
   "source": [
    "# Train"
   ]
  },
  {
   "cell_type": "code",
   "execution_count": null,
   "metadata": {
    "colab": {},
    "colab_type": "code",
    "id": "aGhBjtQpjEcX"
   },
   "outputs": [],
   "source": [
    "# model_name = \"\"\n",
    "learning_rate = 0.001\n",
    "epochs = 100"
   ]
  },
  {
   "cell_type": "code",
   "execution_count": null,
   "metadata": {
    "colab": {},
    "colab_type": "code",
    "id": "5dZDxA4AiQYM"
   },
   "outputs": [],
   "source": [
    "loss_object = tf.keras.losses.SparseCategoricalCrossentropy()\n",
    "optimizer = tf.keras.optimizers.Adam(learning_rate = learning_rate)\n",
    "\n",
    "train_loss = tf.keras.metrics.Mean(name = \"train_loss\")\n",
    "train_accuracy = tf.keras.metrics.SparseCategoricalAccuracy(name = \"train_accuracy\")\n",
    "\n",
    "test_loss = tf.keras.metrics.Mean(name = \"test_loss\")\n",
    "test_accuracy = tf.keras.metrics.SparseCategoricalAccuracy(name = \"test_accuracy\")"
   ]
  },
  {
   "cell_type": "code",
   "execution_count": null,
   "metadata": {
    "colab": {},
    "colab_type": "code",
    "id": "0reMDmqpkxJD"
   },
   "outputs": [],
   "source": [
    "@tf.function\n",
    "def train_set(image, labels):\n",
    "  with tf.GradientTape as tape:\n",
    "    \n",
    "\n",
    "  gradients\n",
    "  optimizer\n",
    "\n"
   ]
  }
 ],
 "metadata": {
  "colab": {
   "collapsed_sections": [
    "iEeTJiBDf_Me"
   ],
   "name": "load_data.ipynb",
   "provenance": []
  },
  "kernelspec": {
   "display_name": "Python 3",
   "language": "python",
   "name": "python3"
  },
  "language_info": {
   "codemirror_mode": {
    "name": "ipython",
    "version": 3
   },
   "file_extension": ".py",
   "mimetype": "text/x-python",
   "name": "python",
   "nbconvert_exporter": "python",
   "pygments_lexer": "ipython3",
   "version": "3.7.7"
  }
 },
 "nbformat": 4,
 "nbformat_minor": 1
}
